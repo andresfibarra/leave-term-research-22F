{
 "cells": [
  {
   "cell_type": "markdown",
   "id": "317f70bc",
   "metadata": {},
   "source": [
    "# Grid Fluid"
   ]
  },
  {
   "cell_type": "markdown",
   "id": "4a1bb987",
   "metadata": {},
   "source": [
    "Modeling fluid motion by solving the incompressible and inviscid Navier-Stokes equation on a uniform grid\n",
    "\n",
    "Credit to Bo Zhu, on whose Dartmouth COSC89 course notes the following code has been based.\n",
    "\n",
    "Additionally, credit to Robert Bridson from the University of British Columbia, whose Fluid Simulation Course Notes were invaluable in understanding the material. His course notes can be found here:\\\n",
    "https://www.cs.ubc.ca/~rbridson/fluidsimulation/fluids_notes.pdf"
   ]
  },
  {
   "cell_type": "code",
   "execution_count": 1,
   "id": "5c5bc43c",
   "metadata": {},
   "outputs": [
    {
     "name": "stdout",
     "output_type": "stream",
     "text": [
      "[Taichi] version 1.1.2, llvm 10.0.0, commit f25cf4a2, osx, python 3.9.7\n",
      "[I 10/27/22 12:52:09.030 1414724] [shell.py:_shell_pop_print@33] Graphical python shell detected, using wrapped sys.stdout\n",
      "[Taichi] Starting on arch=x64\n"
     ]
    }
   ],
   "source": [
    "import taichi as ti\n",
    "import taichi.math as tm\n",
    "import math\n",
    "\n",
    "ti.init()"
   ]
  },
  {
   "cell_type": "code",
   "execution_count": null,
   "id": "7c00d76c",
   "metadata": {},
   "outputs": [],
   "source": [
    "### Global Variables ###\n"
   ]
  },
  {
   "cell_type": "code",
   "execution_count": null,
   "id": "f6947f50",
   "metadata": {},
   "outputs": [],
   "source": [
    "### Simulator Functions ###\n"
   ]
  },
  {
   "cell_type": "code",
   "execution_count": null,
   "id": "826be891",
   "metadata": {},
   "outputs": [],
   "source": [
    "### Setup ###\n"
   ]
  },
  {
   "cell_type": "code",
   "execution_count": null,
   "id": "53f12d9a",
   "metadata": {},
   "outputs": [],
   "source": [
    "### Driver ###\n",
    "\n",
    "def main():\n",
    "    gui = ti.GUI('Grid Fluid', (screen_size, screen_size))\n",
    "        \n",
    "    init_particles()\n",
    "\n",
    "    if debug:\n",
    "        print(\"got here!\")\n",
    "        substep()\n",
    "        \n",
    "    while gui.running:\n",
    "        \n",
    "        # Move stuff\n",
    "        if not debug:\n",
    "            for step in range(substeps):\n",
    "                substep()\n",
    "             \n",
    "        # Draw particles\n",
    "        X = pos.to_numpy()\n",
    "        for i in range(num_particles[None]):\n",
    "            gui.circle(pos=X[i], radius = r[i])\n",
    "        \n",
    "        gui.show()\n",
    "    \n",
    "if __name__ == '__main__':\n",
    "    main()"
   ]
  }
 ],
 "metadata": {
  "kernelspec": {
   "display_name": "Python 3 (ipykernel)",
   "language": "python",
   "name": "python3"
  },
  "language_info": {
   "codemirror_mode": {
    "name": "ipython",
    "version": 3
   },
   "file_extension": ".py",
   "mimetype": "text/x-python",
   "name": "python",
   "nbconvert_exporter": "python",
   "pygments_lexer": "ipython3",
   "version": "3.9.7"
  }
 },
 "nbformat": 4,
 "nbformat_minor": 5
}
