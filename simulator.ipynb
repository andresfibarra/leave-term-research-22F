{
 "cells": [
  {
   "cell_type": "markdown",
   "id": "2a6dc1b0",
   "metadata": {},
   "source": [
    "Credit to Hans-Petter Halvorsen and his \"Mass-Spring-Damper system with Python\" slides for equations and code framework"
   ]
  },
  {
   "cell_type": "code",
   "execution_count": 40,
   "id": "c6ffc2db",
   "metadata": {},
   "outputs": [],
   "source": [
    "import numpy as np\n",
    "from scipy.integrate import odeint\n",
    "import matplotlib.pyplot as plt"
   ]
  },
  {
   "cell_type": "markdown",
   "id": "59065353",
   "metadata": {},
   "source": [
    "The following code graphs and displacement and velocity at a given time of the mass-spring-damper system. It uses the following equation: $$F(t) - c \\frac{du}{dt} - kx(t) = m \\frac{d^2 u}{dx^2}$$, where $t$ is the time that has passed, $F(t)$ is the external force applied to the system, $c$ is the damping constant, $k$ is the stiffness of the spring, and $m$ is the mass. "
   ]
  },
  {
   "cell_type": "code",
   "execution_count": 3,
   "id": "4a59f1e2",
   "metadata": {},
   "outputs": [
    {
     "name": "stdout",
     "output_type": "stream",
     "text": [
      "How much force would you like to apply? 5\n"
     ]
    }
   ],
   "source": [
    "tstart = 0\n",
    "tstop = 60\n",
    "increment = 0.1\n",
    "\n",
    "# Initial condition\n",
    "x_init = [0,0]\n",
    "t = np.arange(tstart,tstop+1,increment)\n",
    "F = int(input(\"How much force would you like to apply? \"))\n",
    "\n",
    "# Function that returns dx/dt\n",
    "def mydiff(x, t):\n",
    "    c = 4 # Damping constant\n",
    "    k = 2 # Stiffness of the spring\n",
    "    m = 20 # Mass\n",
    "    # F = 5\n",
    "    dx1dt = x[1]\n",
    "    dx2dt = (F - c*x[1] - k*x[0])/m\n",
    "    dxdt = [dx1dt, dx2dt]\n",
    "    return dxdt"
   ]
  },
  {
   "cell_type": "markdown",
   "id": "fd0ad6d7",
   "metadata": {},
   "source": [
    "In the following lines, $x_1$ is the position $x(t)$ and $x_2$ is the velocity $\\frac{dx}{dt}$\n",
    "\n",
    "It solves the system of equations\n",
    "$$\\begin{cases}\n",
    "    \\frac{dx_1}{dt} = x_2\\\\\n",
    "    \\frac{dx_2}{dt} = \\frac{1}{m}(F - cx_2 - kx_1)\n",
    "\\end{cases} $$\n",
    "\n",
    "where $x = x_1$ and $\\frac{dx}{dt} = x_2$"
   ]
  },
  {
   "cell_type": "code",
   "execution_count": 4,
   "id": "db4fc1a4",
   "metadata": {},
   "outputs": [
    {
     "data": {
      "image/png": "[encoded data removed]",
      "text/plain": [
       "<Figure size 432x288 with 1 Axes>"
      ]
     },
     "metadata": {
      "needs_background": "light"
     },
     "output_type": "display_data"
    }
   ],
   "source": [
    "# Solve ODE\n",
    "x = odeint(mydiff, x_init, t)\n",
    "x1 = x[:,0]\n",
    "x2 = x[:,1]\n",
    "# Plotting results\n",
    "plt.plot(t,x1)\n",
    "plt.plot(t,x2)\n",
    "plt.title('Mass-Spring-Damper System')\n",
    "plt.xlabel('t')\n",
    "plt.ylabel('x(t)')\n",
    "plt.legend([\"x1\", \"x2\"])\n",
    "plt.grid()\n",
    "plt.show()"
   ]
  },
  {
   "cell_type": "markdown",
   "id": "d1c717b6",
   "metadata": {},
   "source": [
    "Credit to @enesdemirag and their \"mass-spring-damper-system\" code and explanation"
   ]
  },
  {
   "cell_type": "code",
   "execution_count": 41,
   "id": "425d4e53",
   "metadata": {},
   "outputs": [],
   "source": [
    "from matplotlib import pyplot as plt\n",
    "from matplotlib import animation"
   ]
  },
  {
   "cell_type": "code",
   "execution_count": 32,
   "id": "68214c93",
   "metadata": {},
   "outputs": [],
   "source": [
    "class Visualizer(object):\n",
    "    def __init__(self, callback=None, interval=100.0, simulation_time=20.0, initial=(0, 0, 0, 0, 0, 0)):\n",
    "        # Set loop interval\n",
    "        self.interval = interval\n",
    "        self.simulation_time = simulation_time\n",
    "        # Create figure\n",
    "        self.fig = plt.figure(1, figsize=(13, 6), dpi=80)\n",
    "        # Create animation plot area\n",
    "        self.animation_plot = self.fig.add_subplot(223)\n",
    "        # Create position plot\n",
    "        self.position_plot = self.fig.add_subplot(221)\n",
    "        self.position_plot.set_xlim((0, self.simulation_time))\n",
    "        self.position_plot.set_ylim((-20, 20))\n",
    "        self.position_plot_patch = GraphPlot()\n",
    "        self.position_plot.add_patch(self.position_plot_patch.first_patch)\n",
    "        self.position_plot.add_patch(self.position_plot_patch.second_patch)\n",
    "        self.position_plot.text(0.85, 0.8, 'Red:  x\\nBlue: y', transform=self.position_plot.transAxes)\n",
    "        self.position_plot.text(0.03, 0.9, 'Position Plot', transform=self.position_plot.transAxes)\n",
    "        # Create velocity plot\n",
    "        self.velocity_plot = self.fig.add_subplot(222)\n",
    "        self.velocity_plot.set_xlim((0, self.simulation_time))\n",
    "        self.velocity_plot.set_ylim((-20, 20))\n",
    "        self.velocity_plot_patch = GraphPlot()\n",
    "        self.velocity_plot.add_patch(self.velocity_plot_patch.first_patch)\n",
    "        self.velocity_plot.add_patch(self.velocity_plot_patch.second_patch)\n",
    "        self.velocity_plot.text(0.83, 0.8, 'Red:  Vx\\nBlue: Vy', transform=self.velocity_plot.transAxes)\n",
    "        self.velocity_plot.text(0.03, 0.9, 'Velocity Plot', transform=self.velocity_plot.transAxes)\n",
    "        # Create acceleration plot\n",
    "        self.acceleration_plot = self.fig.add_subplot(224)\n",
    "        self.acceleration_plot.set_xlim((0, self.simulation_time))\n",
    "        self.acceleration_plot.set_ylim((-30, 30))\n",
    "        self.acceleration_plot_patch = GraphPlot()\n",
    "        self.acceleration_plot.add_patch(self.acceleration_plot_patch.first_patch)\n",
    "        self.acceleration_plot.add_patch(self.acceleration_plot_patch.second_patch)\n",
    "        self.acceleration_plot.text(0.83, 0.8, 'Red:  Ax\\nBlue: Ay', transform=self.acceleration_plot.transAxes)\n",
    "        self.acceleration_plot.text(0.03, 0.9, 'Acceleration Plot', transform=self.acceleration_plot.transAxes)\n",
    "        # Create dynamic label for simulation time\n",
    "        self.sim_time_label = self.animation_plot.text(0.03, 0.9, '', transform=self.animation_plot.transAxes)\n",
    "        # Set axes limit\n",
    "        self.animation_plot.set_xlim((-20, 20))\n",
    "        self.animation_plot.set_ylim((0, 30))\n",
    "        # Create the mass object\n",
    "        self.patch = plt.Rectangle((0, 0), width=10, height=5, fc='b')\n",
    "        # Add the patches\n",
    "        self.animation_plot.add_patch(self.patch)\n",
    "        # Create animation core\n",
    "        self.animate = animation.FuncAnimation(self.fig, self.animate, interval=self.interval,\n",
    "                                               blit=True, repeat=True, init_func=self.init_func)\n",
    "        # Set initials to zero\n",
    "        self.sim_time = 0\n",
    "        self.x = initial[0]\n",
    "        self.y = initial[1]\n",
    "        self.vx = initial[2]\n",
    "        self.vy = initial[3]\n",
    "        self.ax = initial[4]\n",
    "        self.ay = initial[5]\n",
    "        # Set callback\n",
    "        self.cb_func = callback\n",
    "        plt.show()\n",
    "\n",
    "    def init_func(self):\n",
    "        # Set initials to zero\n",
    "        self.sim_time_label.set_text(\"\")\n",
    "        self.patch.xy = (0, 0)\n",
    "\n",
    "        pos_plot = self.position_plot_patch.init_func()\n",
    "        vel_plot = self.velocity_plot_patch.init_func()\n",
    "        acc_plot = self.acceleration_plot_patch.init_func()\n",
    "        ret_ = [self.patch, self.sim_time_label] + acc_plot + vel_plot + pos_plot\n",
    "        # return the objects to be redrawn\n",
    "        return ret_\n",
    "\n",
    "    def animate(self, i):\n",
    "        # update simulation time, i = n'th time that the method has\n",
    "        # called, thus each represents self.interval ms of delay.\n",
    "        self.sim_time = float(i) / (1000.0 / self.interval)\n",
    "\n",
    "        # Update time\n",
    "        self.sim_time_label.set_text(\"Simulation Time: \" + str(self.sim_time))\n",
    "\n",
    "        # Get object xy from callback\n",
    "        (x, y) = self.cb_func(self.sim_time)\n",
    "        # Set the position of object\n",
    "        vx = (x - self.x) / (self.interval / 1000.0)\n",
    "        vy = (y - self.y) / (self.interval / 1000.0)\n",
    "\n",
    "        self.ax = (vx - self.vx) / (self.interval / 1000.0)\n",
    "        self.ay = (vy - self.vy) / (self.interval / 1000.0)\n",
    "        self.vx = vx\n",
    "        self.vy = vy\n",
    "        self.x = x\n",
    "        self.y = y\n",
    "        self.patch.xy = (x - 5, y - 2.5)\n",
    "\n",
    "        pos_plot = self.position_plot_patch.update([[self.sim_time, x], [self.sim_time, y]])\n",
    "        vel_plot = self.velocity_plot_patch.update([[self.sim_time, vx], [self.sim_time, vy]])\n",
    "        acc_plot = self.acceleration_plot_patch.update([[self.sim_time, self.ax], [self.sim_time, self.ay]])\n",
    "        ret_ = [self.patch, self.sim_time_label] + acc_plot + vel_plot + pos_plot\n",
    "        # return the objects to be redrawn\n",
    "        return ret_"
   ]
  },
  {
   "cell_type": "code",
   "execution_count": 33,
   "id": "83c208a3",
   "metadata": {},
   "outputs": [],
   "source": [
    "class GraphPlot():\n",
    "    def __init__(self):\n",
    "        self.first_patch = plt.Polygon([[0, 0]], closed=None, fill=None, edgecolor='r')\n",
    "        self.second_patch = plt.Polygon([[0, 0]], closed=None, fill=None, edgecolor='b')\n",
    "\n",
    "    def init_func(self):\n",
    "        self.first_patch.xy = [[0, 0]]\n",
    "        self.second_patch.xy = [[0, 0]]\n",
    "        return [self.first_patch, self.second_patch]\n",
    "\n",
    "    def update(self, data):\n",
    "        # Add current x position to x graph\n",
    "        arr = self.first_patch.get_xy().tolist()\n",
    "        arr.append(data[0])\n",
    "        self.first_patch.xy = arr\n",
    "\n",
    "        # Add current y position to y graph\n",
    "        arr = self.second_patch.get_xy().tolist()\n",
    "        arr.append(data[1])\n",
    "        self.second_patch.xy = arr\n",
    "\n",
    "        return [self.first_patch, self.second_patch]"
   ]
  },
  {
   "cell_type": "code",
   "execution_count": 1,
   "id": "b9877b17",
   "metadata": {
    "scrolled": false
   },
   "outputs": [
    {
     "ename": "NameError",
     "evalue": "name 'Visualizer' is not defined",
     "output_type": "error",
     "traceback": [
      "\u001b[0;31m---------------------------------------------------------------------------\u001b[0m",
      "\u001b[0;31mNameError\u001b[0m                                 Traceback (most recent call last)",
      "\u001b[0;32m/var/folders/y7/rxbvhmr9307f345mkrl28_xw0000gn/T/ipykernel_13287/1789437140.py\u001b[0m in \u001b[0;36m<module>\u001b[0;34m\u001b[0m\n\u001b[1;32m     27\u001b[0m \u001b[0;34m\u001b[0m\u001b[0m\n\u001b[1;32m     28\u001b[0m \u001b[0;31m# Start simulation\u001b[0m\u001b[0;34m\u001b[0m\u001b[0;34m\u001b[0m\u001b[0m\n\u001b[0;32m---> 29\u001b[0;31m \u001b[0mVisualizer\u001b[0m\u001b[0;34m(\u001b[0m\u001b[0mcallback\u001b[0m\u001b[0;34m=\u001b[0m\u001b[0mset\u001b[0m\u001b[0;34m,\u001b[0m \u001b[0minterval\u001b[0m\u001b[0;34m=\u001b[0m\u001b[0mdt\u001b[0m \u001b[0;34m*\u001b[0m \u001b[0;36m1000\u001b[0m\u001b[0;34m,\u001b[0m \u001b[0msimulation_time\u001b[0m\u001b[0;34m=\u001b[0m\u001b[0;36m30\u001b[0m\u001b[0;34m,\u001b[0m \u001b[0minitial\u001b[0m\u001b[0;34m=\u001b[0m\u001b[0;34m(\u001b[0m\u001b[0mposition\u001b[0m\u001b[0;34m,\u001b[0m \u001b[0;36m0\u001b[0m\u001b[0;34m,\u001b[0m \u001b[0mvelocity\u001b[0m\u001b[0;34m,\u001b[0m \u001b[0;36m0\u001b[0m\u001b[0;34m,\u001b[0m \u001b[0macceleration\u001b[0m\u001b[0;34m,\u001b[0m \u001b[0;36m0\u001b[0m\u001b[0;34m)\u001b[0m\u001b[0;34m)\u001b[0m\u001b[0;34m\u001b[0m\u001b[0;34m\u001b[0m\u001b[0m\n\u001b[0m",
      "\u001b[0;31mNameError\u001b[0m: name 'Visualizer' is not defined"
     ]
    }
   ],
   "source": [
    "dt = 0.05 # ΔT (sampling period) seconds\n",
    "\n",
    "# Initial values\n",
    "position = 15\n",
    "velocity = 0\n",
    "acceleration = 0\n",
    "\n",
    "# Constants\n",
    "mass = 1 # mass\n",
    "k = 2.5 # spring coefficient\n",
    "b = 0.3 # damping coefficient\n",
    "\n",
    "# Callback Function\n",
    "def set(arg):\n",
    "    global dt, position, velocity, acceleration, mass, k, b # Get global variables\n",
    "\n",
    "    spring_force = k * position # Fs = k * x\n",
    "    damper_force = b * velocity # Fb = b * x'\n",
    "\n",
    "    # If we leave the acceleration alone in equation\n",
    "    # acceleration = - ((b * velocity) + (k * position)) / mass\n",
    "    acceleration = - (spring_force + damper_force) / mass\n",
    "    velocity += (acceleration * dt) # Integral(a) = v\n",
    "    position += (velocity * dt) # Integral(v) = x\n",
    "\n",
    "    return (position, 0) # Return position\n",
    "\n",
    "# Start simulation\n",
    "Visualizer(callback=set, interval=dt * 1000, simulation_time=30, initial=(position, 0, velocity, 0, acceleration, 0))"
   ]
  },
  {
   "cell_type": "markdown",
   "id": "0cf6cace",
   "metadata": {},
   "source": [
    "Taichi code:"
   ]
  },
  {
   "cell_type": "code",
   "execution_count": 2,
   "id": "a5b866fb",
   "metadata": {},
   "outputs": [
    {
     "name": "stdout",
     "output_type": "stream",
     "text": [
      "[Taichi] version 1.1.2, llvm 10.0.0, commit f25cf4a2, osx, python 3.9.7\n",
      "[I 09/21/22 13:03:02.329 934842] [shell.py:_shell_pop_print@33] Graphical python shell detected, using wrapped sys.stdout\n"
     ]
    }
   ],
   "source": [
    "import taichi as ti"
   ]
  },
  {
   "cell_type": "code",
   "execution_count": null,
   "id": "ab582145",
   "metadata": {},
   "outputs": [],
   "source": [
    "ti.init(arch=ti.gpu)\n",
    "\n",
    "n = 320\n",
    "pixels = ti.field(dtype=float, shape=(n * 2, n))\n",
    "\n",
    "@ti.func\n",
    "def complex_sqr(z):\n",
    "    return ti.Vector([z[0]**2 - z[1]**2, z[1] * z[0] * 2])\n",
    "\n",
    "@ti.kernel\n",
    "def paint(t: float):\n",
    "    for i, j in pixels:  # Parallelized over all pixels\n",
    "        c = ti.Vector([-0.8, ti.cos(t) * 0.2])\n",
    "        z = ti.Vector([i / n - 1, j / n - 0.5]) * 2\n",
    "        iterations = 0\n",
    "        while z.norm() < 20 and iterations < 50:\n",
    "            z = complex_sqr(z) + c\n",
    "            iterations += 1\n",
    "        pixels[i, j] = 1 - iterations * 0.02\n",
    "\n",
    "gui = ti.GUI(\"Julia Set\", res=(n * 2, n))\n",
    "\n",
    "i = 0\n",
    "while gui.running:\n",
    "    paint(i * 0.03)\n",
    "    gui.set_image(pixels)\n",
    "    gui.show()\n",
    "    i = i + 1"
   ]
  },
  {
   "cell_type": "code",
   "execution_count": null,
   "id": "d56507f9",
   "metadata": {},
   "outputs": [],
   "source": [
    "import numpy as np\n",
    "X = np.random.random((1, 2))\n",
    "Y = np.random.random((1, 2))\n",
    "Z = np.random.random((1, 2))\n",
    "print(X)\n",
    "print(Y)\n",
    "print(Z)\n",
    "gui = ti.GUI(\"triangles\", res=(400, 400))\n",
    "i = 0\n",
    "j = 0\n",
    "while gui.running:\n",
    "    gui.triangles(a=X+i, b=Y, c=Z, color=0xED553B)\n",
    "    if j < 100:\n",
    "        i = 0.01\n",
    "    elif j < 200:\n",
    "        i = -0.01\n",
    "    else:\n",
    "        j = 0\n",
    "    j += 1\n",
    "    gui.show()"
   ]
  },
  {
   "cell_type": "markdown",
   "id": "d77eac5f",
   "metadata": {},
   "source": [
    "using GUI interface to control a ball drawn on the screen"
   ]
  },
  {
   "cell_type": "code",
   "execution_count": 27,
   "id": "a1e14c8e",
   "metadata": {},
   "outputs": [],
   "source": [
    "gui = ti.GUI('Title', (640, 480))\n",
    "pos = np.random.random((1,2))\n",
    "\n",
    "while gui.running:\n",
    "    gui.get_event()  # must be called before is_pressed\n",
    "    if gui.is_pressed('a', ti.GUI.LEFT):\n",
    "        pos[0,0]-=0.01\n",
    "    elif gui.is_pressed('d', ti.GUI.RIGHT):\n",
    "        pos[0,0]+=0.01\n",
    "    elif gui.is_pressed('w', ti.GUI.UP):\n",
    "        pos[0,1]+=0.01\n",
    "    elif gui.is_pressed('s', ti.GUI.DOWN):\n",
    "        pos[0,1]-=0.01\n",
    "    gui.circles(pos, radius=5, palette=[0x068587],palette_indices=np.array([0]))\n",
    "    gui.show()\n"
   ]
  },
  {
   "cell_type": "code",
   "execution_count": 19,
   "id": "d741d4bb",
   "metadata": {},
   "outputs": [
    {
     "name": "stdout",
     "output_type": "stream",
     "text": [
      "[[0.88568889 0.97643073]]\n",
      "<class 'numpy.ndarray'>\n",
      "(1, 2)\n"
     ]
    }
   ],
   "source": [
    "pos = np.random.random((1, 2))\n",
    "# Create an array of 50 integer elements whose values are randomly 0, 1, 2\n",
    "# 0 corresponds to 0x068587\n",
    "# 1 corresponds to 0xED553B\n",
    "# 2 corresponds to 0xEEEEF0\n",
    "print(pos)\n",
    "print(type(pos))\n",
    "print(np.shape(pos))\n",
    "indices = np.random.randint(0, 2, size=(1,))\n",
    "gui = ti.GUI(\"circles\", res=(400, 400))\n",
    "\n",
    "while gui.running:\n",
    "    gui.circles(pos, radius=5, palette=[0x068587, 0xED553B, 0xEEEEF0], palette_indices=indices)\n",
    "    gui.show()\n"
   ]
  },
  {
   "cell_type": "code",
   "execution_count": 29,
   "id": "fd6a9e45",
   "metadata": {},
   "outputs": [
    {
     "name": "stdout",
     "output_type": "stream",
     "text": [
      "[Taichi] Starting on arch=x64\n"
     ]
    }
   ],
   "source": [
    "import taichi as ti\n",
    "ti.init()\n",
    "\n",
    "N = 8\n",
    "dt = 1e-5\n",
    "\n",
    "x = ti.Vector.field(2, dtype=ti.f32, shape=N, needs_grad=True)  # particle positions\n",
    "v = ti.Vector.field(2, dtype=ti.f32, shape=N)  # particle velocities\n",
    "U = ti.field(dtype=ti.f32, shape=(), needs_grad=True)  # potential energy\n",
    "\n",
    "\n",
    "@ti.kernel\n",
    "def compute_U():\n",
    "    for i, j in ti.ndrange(N, N):\n",
    "        r = x[i] - x[j]\n",
    "        # r.norm(1e-3) is equivalent to ti.sqrt(r.norm()**2 + 1e-3)\n",
    "        # This is to prevent 1/0 error which can cause wrong derivative\n",
    "        U[None] += -1 / r.norm(1e-3)  # U += -1 / |r|\n",
    "\n",
    "\n",
    "@ti.kernel\n",
    "def advance():\n",
    "    for i in x:\n",
    "        v[i] += dt * -x.grad[i]  # dv/dt = -dU/dx\n",
    "    for i in x:\n",
    "        x[i] += dt * v[i]  # dx/dt = v\n",
    "\n",
    "\n",
    "def substep():\n",
    "    with ti.ad.Tape(loss=U):\n",
    "        # Kernel invocations in this scope will later contribute to partial derivatives of\n",
    "        # U with respect to input variables such as x.\n",
    "        compute_U(\n",
    "        )  # The tape will automatically compute dU/dx and save the results in x.grad\n",
    "    advance()\n",
    "\n",
    "\n",
    "@ti.kernel\n",
    "def init():\n",
    "    for i in x:\n",
    "        x[i] = [ti.random(), ti.random()]\n",
    "\n",
    "\n",
    "init()\n",
    "gui = ti.GUI('Autodiff gravity')\n",
    "while gui.running:\n",
    "    for i in range(50):\n",
    "        substep()\n",
    "    gui.circles(x.to_numpy(), radius=3)\n",
    "    gui.show()"
   ]
  },
  {
   "cell_type": "code",
   "execution_count": 62,
   "id": "6c425b19",
   "metadata": {},
   "outputs": [
    {
     "name": "stdout",
     "output_type": "stream",
     "text": [
      "this happened\n",
      "this happened\n",
      "this happened\n",
      "this happened\n",
      "this happened\n",
      "this happened\n",
      "ending sim\n"
     ]
    }
   ],
   "source": [
    "import math\n",
    "\n",
    "gui = ti.GUI('Spring-Mass System', (640, 480))\n",
    "#pos = np.array([[0.5, 0.5]])\n",
    "xpos = 0.5\n",
    "ypos = 0.5\n",
    "mouse_y = 0 # just a placeholder\n",
    "\n",
    "mass = gui.slider('Mass', 5, 15, step=1)\n",
    "reset = gui.button('Reset')\n",
    "\n",
    "mass.value = 10\n",
    "\n",
    "while gui.running:\n",
    "    # gui.get_event()  # must be called before is_pressed\n",
    "    for e in gui.get_events(gui.PRESS):\n",
    "        if e.key == 'a':\n",
    "            xpos -= 0.01\n",
    "            print(\"moving\")\n",
    "        elif e.key == gui.ESCAPE:\n",
    "            gui.running = False\n",
    "            print(\"ending sim\")\n",
    "            exit()\n",
    "        elif e.key == gui.LMB:\n",
    "            xpos = gui.get_cursor_pos()[0]\n",
    "        elif e.key == reset:\n",
    "            xpos = 0.5\n",
    "    \n",
    "    gui.circle((xpos,ypos), radius=mass.value)\n",
    "    gui.show()"
   ]
  },
  {
   "cell_type": "markdown",
   "id": "fd77132a",
   "metadata": {},
   "source": [
    "Now trying to make it move like a spring"
   ]
  },
  {
   "cell_type": "markdown",
   "id": "f7bb6467",
   "metadata": {},
   "source": [
    "This next one is unfinished:"
   ]
  },
  {
   "cell_type": "code",
   "execution_count": 3,
   "id": "b3d4738f",
   "metadata": {},
   "outputs": [
    {
     "name": "stdout",
     "output_type": "stream",
     "text": [
      "[Taichi] Starting on arch=x64\n",
      "ending sim\n"
     ]
    },
    {
     "data": {
      "text/plain": [
       "\"\\nx = ti.Vector.field(2, dtype=ti.f32, shape=N, needs_grad=True)  # particle positions\\nv = ti.Vector.field(2, dtype=ti.f32, shape=N)  # particle velocities\\nU = ti.field(dtype=ti.f32, shape=(), needs_grad=True)  # potential energy\\n\\n\\n@ti.kernel\\ndef compute_U():\\n    for i, j in ti.ndrange(N, N):\\n        r = x[i] - x[j]\\n        # r.norm(1e-3) is equivalent to ti.sqrt(r.norm()**2 + 1e-3)\\n        # This is to prevent 1/0 error which can cause wrong derivative\\n        U[None] += -1 / r.norm(1e-3)  # U += -1 / |r|\\n\\n\\n@ti.kernel\\ndef advance():\\n    for i in x:\\n        v[i] += dt * -x.grad[i]  # dv/dt = -dU/dx\\n    for i in x:\\n        x[i] += dt * v[i]  # dx/dt = v\\n\\n\\ndef substep():\\n    with ti.ad.Tape(loss=U):\\n        # Kernel invocations in this scope will later contribute to partial derivatives of\\n        # U with respect to input variables such as x.\\n        compute_U(\\n        )  # The tape will automatically compute dU/dx and save the results in x.grad\\n    advance()\\n\\n\\n@ti.kernel\\ndef init():\\n    for i in x:\\n        x[i] = [ti.random(), ti.random()]\\n\\n\\ninit()\\ngui = ti.GUI('Autodiff gravity')\\nwhile gui.running:\\n    for i in range(50):\\n        substep()\\n    gui.circles(x.to_numpy(), radius=3)\\n    gui.show()\\n\""
      ]
     },
     "execution_count": 3,
     "metadata": {},
     "output_type": "execute_result"
    }
   ],
   "source": [
    "import math\n",
    "ti.init()\n",
    "\n",
    "dt = 1e-5\n",
    "\n",
    "# k = spring constant\n",
    "# m = mass\n",
    "# c = damping constant\n",
    "def calc_angular(k, m, c): \n",
    "    return math.sqrt(k/m - math.pow(c/(2*m), 2))\n",
    "\n",
    "gui = ti.GUI('Spring-Mass System', (640, 480))\n",
    "#pos = np.array([[0.5, 0.5]])\n",
    "xpos = 0.5\n",
    "ypos = 0.5\n",
    "mouse_y = 0 # just a placeholder\n",
    "\n",
    "mass = gui.slider('Mass', 5, 15, step=1)\n",
    "damping = gui.slider('Damping', 0, 100, step=5)\n",
    "spring = gui.slider('Spring Constant', 0, 1000, step=20)\n",
    "reset = gui.button('Reset')\n",
    "\n",
    "mass.value = 5\n",
    "damping.value = 2\n",
    "spring.value = 5\n",
    "\n",
    "while gui.running:\n",
    "    for e in gui.get_events(gui.PRESS):\n",
    "        if e.key == gui.ESCAPE:\n",
    "            gui.running = False\n",
    "            print(\"ending sim\")\n",
    "            exit()\n",
    "        elif e.key == gui.LMB: \n",
    "            # now reset it and calculate sinusoid with a new initial amplitude\n",
    "            xpos = gui.get_cursor_pos()[0]\n",
    "            a_0 = abs(0.5-xpos)\n",
    "        elif e.key == reset:\n",
    "            xpos = 0.5\n",
    "    \n",
    "    gui.circle((xpos,ypos), radius=mass.value)\n",
    "    gui.show()\n",
    "\n",
    "    \n",
    "\"\"\"\n",
    "x = ti.Vector.field(2, dtype=ti.f32, shape=N, needs_grad=True)  # particle positions\n",
    "v = ti.Vector.field(2, dtype=ti.f32, shape=N)  # particle velocities\n",
    "U = ti.field(dtype=ti.f32, shape=(), needs_grad=True)  # potential energy\n",
    "\n",
    "\n",
    "@ti.kernel\n",
    "def compute_U():\n",
    "    for i, j in ti.ndrange(N, N):\n",
    "        r = x[i] - x[j]\n",
    "        # r.norm(1e-3) is equivalent to ti.sqrt(r.norm()**2 + 1e-3)\n",
    "        # This is to prevent 1/0 error which can cause wrong derivative\n",
    "        U[None] += -1 / r.norm(1e-3)  # U += -1 / |r|\n",
    "\n",
    "\n",
    "@ti.kernel\n",
    "def advance():\n",
    "    for i in x:\n",
    "        v[i] += dt * -x.grad[i]  # dv/dt = -dU/dx\n",
    "    for i in x:\n",
    "        x[i] += dt * v[i]  # dx/dt = v\n",
    "\n",
    "\n",
    "def substep():\n",
    "    with ti.ad.Tape(loss=U):\n",
    "        # Kernel invocations in this scope will later contribute to partial derivatives of\n",
    "        # U with respect to input variables such as x.\n",
    "        compute_U(\n",
    "        )  # The tape will automatically compute dU/dx and save the results in x.grad\n",
    "    advance()\n",
    "\n",
    "\n",
    "@ti.kernel\n",
    "def init():\n",
    "    for i in x:\n",
    "        x[i] = [ti.random(), ti.random()]\n",
    "\n",
    "\n",
    "init()\n",
    "gui = ti.GUI('Autodiff gravity')\n",
    "while gui.running:\n",
    "    for i in range(50):\n",
    "        substep()\n",
    "    gui.circles(x.to_numpy(), radius=3)\n",
    "    gui.show()\n",
    "\"\"\""
   ]
  },
  {
   "cell_type": "markdown",
   "id": "aa6105ab",
   "metadata": {},
   "source": [
    "This is a simpler version of the one above (no sliders): "
   ]
  },
  {
   "cell_type": "code",
   "execution_count": null,
   "id": "06aedfc7",
   "metadata": {},
   "outputs": [
    {
     "name": "stdout",
     "output_type": "stream",
     "text": [
      "[Taichi] Starting on arch=x64\n"
     ]
    }
   ],
   "source": [
    "import math\n",
    "import taichi as ti\n",
    "\n",
    "ti.init()\n",
    "\n",
    "t = 0\n",
    "dt = 1e-4\n",
    "\n",
    "# Why do i need the substeps?\n",
    "substeps = 10\n",
    "\n",
    "x = ti.field(dtype=ti.f32, shape=(2,)) # x[0] = xpos, x[1] = ypos\n",
    "mass = ti.field(dtype=ti.f32, shape=())\n",
    "damping = ti.field(dtype=ti.f32, shape=())\n",
    "spring = ti.field(dtype=ti.f32, shape=())\n",
    "base = ti.field(dtype=ti.f32, shape=(2,))\n",
    "\n",
    "# k = spring constant\n",
    "# m = mass\n",
    "# c = damping constant\n",
    "def calc_angular(k, m, c): \n",
    "    return math.sqrt(k/m - math.pow(c/(2*m), 2))\n",
    "\n",
    "@ti.kernel\n",
    "def substep():\n",
    "    # using an explicit Euler integration scheme\n",
    "    pass\n",
    "\n",
    "def main():\n",
    "    gui = ti.GUI('Sinusoidal Motion', (640, 480))\n",
    "    \n",
    "    x[0] = 0.5\n",
    "    x[1] = 0.5\n",
    "    base[0] = 0.5\n",
    "    base[1] = 0.5\n",
    "    # initialize values\n",
    "    mass[None] = 5\n",
    "    damping[None] = 2\n",
    "    spring[None] = 5\n",
    "    \n",
    "    while True:\n",
    "        for e in gui.get_events(ti.GUI.PRESS):\n",
    "            if e.key in [ti.GUI.ESCAPE, ti.GUI.EXIT]:\n",
    "                exit()\n",
    "            elif e.key == ti.GUI.LMB: #restarting sim from different spot\n",
    "                # for now only simulating the sinusoidal motion in 1D\n",
    "                x[0] = e.pos[0]\n",
    "        \n",
    "        # move stuff\n",
    "        for step in range(substeps):\n",
    "            substep()\n",
    "        \n",
    "        # Draw springs\n",
    "        X = x.to_numpy()\n",
    "        B = base.to_numpy()\n",
    "        gui.line(begin=X, end=B, radius = 2, color=0x444444)\n",
    "    \n",
    "        gui.circle((x[0], x[1]), radius = mass[None])\n",
    "        gui.show()\n",
    "    \n",
    "    \n",
    "if __name__ == '__main__':\n",
    "    main()\n",
    "\n"
   ]
  },
  {
   "cell_type": "code",
   "execution_count": null,
   "id": "b68fcdf7",
   "metadata": {},
   "outputs": [],
   "source": []
  }
 ],
 "metadata": {
  "kernelspec": {
   "display_name": "Python 3 (ipykernel)",
   "language": "python",
   "name": "python3"
  },
  "language_info": {
   "codemirror_mode": {
    "name": "ipython",
    "version": 3
   },
   "file_extension": ".py",
   "mimetype": "text/x-python",
   "name": "python",
   "nbconvert_exporter": "python",
   "pygments_lexer": "ipython3",
   "version": "3.9.7"
  }
 },
 "nbformat": 4,
 "nbformat_minor": 5
}
