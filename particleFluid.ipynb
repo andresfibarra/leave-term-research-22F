{
 "cells": [
  {
   "cell_type": "markdown",
   "id": "7228c7ec",
   "metadata": {},
   "source": [
    "# Particle Fluid"
   ]
  },
  {
   "cell_type": "markdown",
   "id": "ac7422ba",
   "metadata": {},
   "source": [
    "Modeling fluid motion by simulating a set of particles. \n",
    "\n",
    "Credit to Professor Bo Zhu, on whose Dartmouth COSC89 course notes the following code is based"
   ]
  },
  {
   "cell_type": "markdown",
   "id": "d1a4f3ff",
   "metadata": {},
   "source": [
    "### Structure: \n",
    "Give each particle an index\n",
    "each particle has a position (2D vector), velocity (2D vector), mass (scalar), density (scalar), pressure (scalar)\n",
    "Have a global constant h (kernel radius)\n",
    "\n",
    "Have kernels to calculate w_spiky, gradient_w_spiky, laplacian_w_spiky\n",
    "Where w_spiky takes two indices (which it uses to calculate the radius r)\n",
    "grad and laplacian take just one index (which it uses to find the velocity of that index)\n",
    "\n",
    "Have kernels to calculate w_vis, gradient_w_vis, laplacian_w_vis\n",
    "Same inputs as for the corresponding spiky kernels\n",
    "\n",
    "Spatial Hashing: \n",
    "Keep a dictionary hashing a vec2 -> list of indices\n",
    "Iterate over all points and add them to the array that corresponds \n",
    "\n",
    "Have each particle keep track of its neighbors with an array of arrays\n",
    "\n",
    "Use explicit time integration to advance velocity and position for each time step\n",
    "\n",
    "Have methods to update:\n",
    "Neighbors\n",
    "Density\n",
    "Pressure\n",
    "Pressure Force\n",
    "Viscosity Force\n",
    "Body Force\n",
    "Boundary Collision Force\n",
    "Temperature and Buoyancy (?)\n"
   ]
  }
 ],
 "metadata": {
  "kernelspec": {
   "display_name": "Python 3 (ipykernel)",
   "language": "python",
   "name": "python3"
  },
  "language_info": {
   "codemirror_mode": {
    "name": "ipython",
    "version": 3
   },
   "file_extension": ".py",
   "mimetype": "text/x-python",
   "name": "python",
   "nbconvert_exporter": "python",
   "pygments_lexer": "ipython3",
   "version": "3.9.7"
  }
 },
 "nbformat": 4,
 "nbformat_minor": 5
}
