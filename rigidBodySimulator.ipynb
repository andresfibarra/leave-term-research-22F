{
 "cells": [
  {
   "cell_type": "markdown",
   "id": "8285045c",
   "metadata": {},
   "source": [
    "# Rigid Body Simulator\n",
    "\n",
    "Credit to Professor Bo Zhu, on whose COSC 89 Course Notes the following code is based on"
   ]
  },
  {
   "cell_type": "markdown",
   "id": "d93f535d",
   "metadata": {},
   "source": [
    "## Geometry in space\n",
    "\n",
    "UNFINISHED"
   ]
  },
  {
   "cell_type": "code",
   "execution_count": 205,
   "id": "5eb1a465",
   "metadata": {},
   "outputs": [
    {
     "name": "stdout",
     "output_type": "stream",
     "text": [
      "[Taichi] Starting on arch=x64\n"
     ]
    },
    {
     "ename": "TaichiCompilationError",
     "evalue": "\nOn line 76 of file \"/var/folders/y7/rxbvhmr9307f345mkrl28_xw0000gn/T/ipykernel_5370/1594515034.py\", in substep:\n    x[0] = x[0] + dt * v[0]\n           ^^^^^^^^^^^^^^^^\nTraceback (most recent call last):\n  File \"/Users/andresibarra/opt/anaconda3/lib/python3.9/site-packages/taichi/lang/ast/ast_transformer_utils.py\", line 24, in __call__\n    return method(ctx, node)\n  File \"/Users/andresibarra/opt/anaconda3/lib/python3.9/site-packages/taichi/lang/ast/ast_transformer.py\", line 683, in build_BinOp\n    node.ptr = op(node.left.ptr, node.right.ptr)\n  File \"/Users/andresibarra/opt/anaconda3/lib/python3.9/site-packages/taichi/lang/ast/ast_transformer.py\", line 669, in <lambda>\n    ast.Add: lambda l, r: l + r,\n  File \"/Users/andresibarra/opt/anaconda3/lib/python3.9/site-packages/taichi/lang/common_ops.py\", line 35, in __add__\n    return ops.add(self, other)\n  File \"/Users/andresibarra/opt/anaconda3/lib/python3.9/site-packages/taichi/lang/ops.py\", line 55, in wrapped\n    return a._element_wise_binary(imp_foo, b)\n  File \"/Users/andresibarra/opt/anaconda3/lib/python3.9/site-packages/taichi/lang/matrix.py\", line 463, in _element_wise_binary\n    other = self._broadcast_copy(other)\n  File \"/Users/andresibarra/opt/anaconda3/lib/python3.9/site-packages/taichi/lang/matrix.py\", line 473, in _broadcast_copy\n    assert self.m == other.m and self.n == other.n, f\"Dimension mismatch between shapes ({self.n}, {self.m}), ({other.n}, {other.m})\"\nAssertionError: Dimension mismatch between shapes (2, 1), (3, 1)\n",
     "output_type": "error",
     "traceback": [
      "\u001b[0;31m---------------------------------------------------------------------------\u001b[0m",
      "\u001b[0;31mTaichiCompilationError\u001b[0m                    Traceback (most recent call last)",
      "\u001b[0;32m/var/folders/y7/rxbvhmr9307f345mkrl28_xw0000gn/T/ipykernel_5370/1594515034.py\u001b[0m in \u001b[0;36m<module>\u001b[0;34m\u001b[0m\n\u001b[1;32m     98\u001b[0m \u001b[0;34m\u001b[0m\u001b[0m\n\u001b[1;32m     99\u001b[0m \u001b[0;32mif\u001b[0m \u001b[0m__name__\u001b[0m \u001b[0;34m==\u001b[0m \u001b[0;34m'__main__'\u001b[0m\u001b[0;34m:\u001b[0m\u001b[0;34m\u001b[0m\u001b[0;34m\u001b[0m\u001b[0m\n\u001b[0;32m--> 100\u001b[0;31m     \u001b[0mmain\u001b[0m\u001b[0;34m(\u001b[0m\u001b[0;34m)\u001b[0m\u001b[0;34m\u001b[0m\u001b[0;34m\u001b[0m\u001b[0m\n\u001b[0m",
      "\u001b[0;32m/var/folders/y7/rxbvhmr9307f345mkrl28_xw0000gn/T/ipykernel_5370/1594515034.py\u001b[0m in \u001b[0;36mmain\u001b[0;34m()\u001b[0m\n\u001b[1;32m     91\u001b[0m         \u001b[0;31m# Update for a time step\u001b[0m\u001b[0;34m\u001b[0m\u001b[0;34m\u001b[0m\u001b[0m\n\u001b[1;32m     92\u001b[0m         \u001b[0;32mfor\u001b[0m \u001b[0mstep\u001b[0m \u001b[0;32min\u001b[0m \u001b[0mrange\u001b[0m\u001b[0;34m(\u001b[0m\u001b[0msubsteps\u001b[0m\u001b[0;34m)\u001b[0m\u001b[0;34m:\u001b[0m\u001b[0;34m\u001b[0m\u001b[0;34m\u001b[0m\u001b[0m\n\u001b[0;32m---> 93\u001b[0;31m             \u001b[0msubstep\u001b[0m\u001b[0;34m(\u001b[0m\u001b[0;34m)\u001b[0m\u001b[0;34m\u001b[0m\u001b[0;34m\u001b[0m\u001b[0m\n\u001b[0m\u001b[1;32m     94\u001b[0m \u001b[0;34m\u001b[0m\u001b[0m\n\u001b[1;32m     95\u001b[0m         \u001b[0mgui\u001b[0m\u001b[0;34m.\u001b[0m\u001b[0mtriangle\u001b[0m\u001b[0;34m(\u001b[0m\u001b[0ma\u001b[0m\u001b[0;34m=\u001b[0m\u001b[0mx\u001b[0m\u001b[0;34m[\u001b[0m\u001b[0;36m0\u001b[0m\u001b[0;34m]\u001b[0m\u001b[0;34m+\u001b[0m\u001b[0mrotated_vertices\u001b[0m\u001b[0;34m[\u001b[0m\u001b[0;36m0\u001b[0m\u001b[0;34m]\u001b[0m\u001b[0;34m,\u001b[0m \u001b[0mb\u001b[0m\u001b[0;34m=\u001b[0m\u001b[0mx\u001b[0m\u001b[0;34m[\u001b[0m\u001b[0;36m0\u001b[0m\u001b[0;34m]\u001b[0m\u001b[0;34m+\u001b[0m\u001b[0mrotated_vertices\u001b[0m\u001b[0;34m[\u001b[0m\u001b[0;36m1\u001b[0m\u001b[0;34m]\u001b[0m\u001b[0;34m,\u001b[0m \u001b[0mc\u001b[0m\u001b[0;34m=\u001b[0m\u001b[0mx\u001b[0m\u001b[0;34m[\u001b[0m\u001b[0;36m0\u001b[0m\u001b[0;34m]\u001b[0m\u001b[0;34m+\u001b[0m\u001b[0mrotated_vertices\u001b[0m\u001b[0;34m[\u001b[0m\u001b[0;36m2\u001b[0m\u001b[0;34m]\u001b[0m\u001b[0;34m,\u001b[0m \u001b[0mcolor\u001b[0m\u001b[0;34m=\u001b[0m\u001b[0;36m0xED553B\u001b[0m\u001b[0;34m)\u001b[0m\u001b[0;34m\u001b[0m\u001b[0;34m\u001b[0m\u001b[0m\n",
      "\u001b[0;32m~/opt/anaconda3/lib/python3.9/site-packages/taichi/lang/kernel_impl.py\u001b[0m in \u001b[0;36mwrapped\u001b[0;34m(*args, **kwargs)\u001b[0m\n\u001b[1;32m    918\u001b[0m                 \u001b[0;32mreturn\u001b[0m \u001b[0mprimal\u001b[0m\u001b[0;34m(\u001b[0m\u001b[0;34m*\u001b[0m\u001b[0margs\u001b[0m\u001b[0;34m,\u001b[0m \u001b[0;34m**\u001b[0m\u001b[0mkwargs\u001b[0m\u001b[0;34m)\u001b[0m\u001b[0;34m\u001b[0m\u001b[0;34m\u001b[0m\u001b[0m\n\u001b[1;32m    919\u001b[0m             \u001b[0;32mexcept\u001b[0m \u001b[0;34m(\u001b[0m\u001b[0mTaichiCompilationError\u001b[0m\u001b[0;34m,\u001b[0m \u001b[0mTaichiRuntimeError\u001b[0m\u001b[0;34m)\u001b[0m \u001b[0;32mas\u001b[0m \u001b[0me\u001b[0m\u001b[0;34m:\u001b[0m\u001b[0;34m\u001b[0m\u001b[0;34m\u001b[0m\u001b[0m\n\u001b[0;32m--> 920\u001b[0;31m                 \u001b[0;32mraise\u001b[0m \u001b[0mtype\u001b[0m\u001b[0;34m(\u001b[0m\u001b[0me\u001b[0m\u001b[0;34m)\u001b[0m\u001b[0;34m(\u001b[0m\u001b[0;34m'\\n'\u001b[0m \u001b[0;34m+\u001b[0m \u001b[0mstr\u001b[0m\u001b[0;34m(\u001b[0m\u001b[0me\u001b[0m\u001b[0;34m)\u001b[0m\u001b[0;34m)\u001b[0m \u001b[0;32mfrom\u001b[0m \u001b[0;32mNone\u001b[0m\u001b[0;34m\u001b[0m\u001b[0;34m\u001b[0m\u001b[0m\n\u001b[0m\u001b[1;32m    921\u001b[0m \u001b[0;34m\u001b[0m\u001b[0m\n\u001b[1;32m    922\u001b[0m         \u001b[0mwrapped\u001b[0m\u001b[0;34m.\u001b[0m\u001b[0mgrad\u001b[0m \u001b[0;34m=\u001b[0m \u001b[0madjoint\u001b[0m\u001b[0;34m\u001b[0m\u001b[0;34m\u001b[0m\u001b[0m\n",
      "\u001b[0;31mTaichiCompilationError\u001b[0m: \nOn line 76 of file \"/var/folders/y7/rxbvhmr9307f345mkrl28_xw0000gn/T/ipykernel_5370/1594515034.py\", in substep:\n    x[0] = x[0] + dt * v[0]\n           ^^^^^^^^^^^^^^^^\nTraceback (most recent call last):\n  File \"/Users/andresibarra/opt/anaconda3/lib/python3.9/site-packages/taichi/lang/ast/ast_transformer_utils.py\", line 24, in __call__\n    return method(ctx, node)\n  File \"/Users/andresibarra/opt/anaconda3/lib/python3.9/site-packages/taichi/lang/ast/ast_transformer.py\", line 683, in build_BinOp\n    node.ptr = op(node.left.ptr, node.right.ptr)\n  File \"/Users/andresibarra/opt/anaconda3/lib/python3.9/site-packages/taichi/lang/ast/ast_transformer.py\", line 669, in <lambda>\n    ast.Add: lambda l, r: l + r,\n  File \"/Users/andresibarra/opt/anaconda3/lib/python3.9/site-packages/taichi/lang/common_ops.py\", line 35, in __add__\n    return ops.add(self, other)\n  File \"/Users/andresibarra/opt/anaconda3/lib/python3.9/site-packages/taichi/lang/ops.py\", line 55, in wrapped\n    return a._element_wise_binary(imp_foo, b)\n  File \"/Users/andresibarra/opt/anaconda3/lib/python3.9/site-packages/taichi/lang/matrix.py\", line 463, in _element_wise_binary\n    other = self._broadcast_copy(other)\n  File \"/Users/andresibarra/opt/anaconda3/lib/python3.9/site-packages/taichi/lang/matrix.py\", line 473, in _broadcast_copy\n    assert self.m == other.m and self.n == other.n, f\"Dimension mismatch between shapes ({self.n}, {self.m}), ({other.n}, {other.m})\"\nAssertionError: Dimension mismatch between shapes (2, 1), (3, 1)\n"
     ]
    }
   ],
   "source": [
    "import taichi as ti\n",
    "import numpy as np\n",
    "\n",
    "ti.init()\n",
    "\n",
    "# variables and fields to keep track of\n",
    "num_particles = 1\n",
    "dt = 1e-3\n",
    "substeps = 10\n",
    "mass = 1\n",
    "\n",
    "# Inertial tensor\n",
    "I = 10\n",
    "# position - center of mass\n",
    "x = ti.Vector.field(n=2, dtype=ti.f32, shape=num_particles)\n",
    "# x = ti.Vector([0.5, 0.5])\n",
    "# vertices - relative to center of mass -- will have to change if more than one solid\n",
    "vertices_0 = ti.Vector.field(n=2, dtype=ti.f32, shape=num_particles*3)\n",
    "rotated_vertices = ti.Vector.field(n=2, dtype=ti.f32, shape=num_particles*3)\n",
    "# force\n",
    "force = ti.Vector.field(n=3, dtype=ti.f32, shape=num_particles)\n",
    "# torque\n",
    "torque = ti.Vector.field(n=3, dtype=ti.f32, shape=num_particles)\n",
    "# velocity\n",
    "v = ti.Vector.field(n=3, dtype=ti.f32, shape=num_particles)\n",
    "# orientation\n",
    "theta = ti.field(dtype=ti.f32, shape=num_particles)\n",
    "# angular velocity\n",
    "w = ti.Vector.field(n=3, dtype=ti.f32, shape=num_particles)\n",
    "\n",
    "@ti.kernel\n",
    "def init_pos():\n",
    "    x[0] = ti.Vector([0.5, 0.5])\n",
    "    # equilateral triangle\n",
    "    vertices_0[0] = ti.Vector([0, 0.1])\n",
    "    vertices_0[1] = ti.Vector([-0.0866, -0.05])\n",
    "    vertices_0[2] = ti.Vector([0.0866, -0.05])\n",
    "    rotated_vertices[0] = ti.Vector([0, 0.1])\n",
    "    rotated_vertices[1] = ti.Vector([-0.0866, -0.05])\n",
    "    rotated_vertices[2] = ti.Vector([0.0866, -0.05])\n",
    "    # initialize velocities\n",
    "    v[0] = ti.Vector([0, 0, 0])\n",
    "    # initialize force\n",
    "    force[0] = ti.Vector([0,0,0])\n",
    "    \n",
    "@ti.func\n",
    "def clear_force():\n",
    "    for i in range(num_particles):\n",
    "        force[i] = ti.Vector([0.0, 0.0, 0.0])\n",
    "    \n",
    "    \n",
    "@ti.func\n",
    "def calculate_force():\n",
    "    clear_force()\n",
    "    # gravity\n",
    "    for i in range(num_particles):\n",
    "        force[i] = force[i] - ti.Vector([0, -2, 0])\n",
    "\n",
    "@ti.func\n",
    "def rotate():\n",
    "    pass\n",
    "\n",
    "@ti.func\n",
    "def calculate_torque():\n",
    "    pass\n",
    "\n",
    "@ti.kernel\n",
    "def substep():\n",
    "    calculate_force()\n",
    "    calculate_torque()\n",
    "    # update velocity\n",
    "    v[0] = v[0] + dt * force[0] / mass\n",
    "    # update angular velocity\n",
    "    w[0] = w[0] + dt * torque[0] / I\n",
    "    # update position\n",
    "    x[0] = x[0] + dt * v[0]\n",
    "    # update orientation\n",
    "    theta[0] = theta[0] * dt * w[0]\n",
    "    # update vertices\n",
    "    rotate()\n",
    "\n",
    "def main():\n",
    "    gui = ti.GUI('Rigid Body', (600, 600))\n",
    "    # initialize vertices\n",
    "    init_pos()\n",
    "    \n",
    "    while gui.running:\n",
    "        for e in gui.get_events(ti.GUI.PRESS):\n",
    "            pass\n",
    "            \n",
    "        # Update for a time step\n",
    "        for step in range(substeps):\n",
    "            substep()\n",
    "\n",
    "        gui.triangle(a=x[0]+rotated_vertices[0], b=x[0]+rotated_vertices[1], c=x[0]+rotated_vertices[2], color=0xED553B)\n",
    "        \n",
    "        gui.show()\n",
    "    \n",
    "if __name__ == '__main__':\n",
    "    main()"
   ]
  },
  {
   "cell_type": "markdown",
   "id": "71b491b2",
   "metadata": {},
   "source": [
    "Code from stackoverflow on finding the inertial tensor using triangles\n",
    "\n",
    "https://stackoverflow.com/questions/41592034/computing-tensor-of-inertia-in-2d"
   ]
  },
  {
   "cell_type": "markdown",
   "id": "fac87cc9",
   "metadata": {},
   "source": []
  }
 ],
 "metadata": {
  "kernelspec": {
   "display_name": "Python 3 (ipykernel)",
   "language": "python",
   "name": "python3"
  },
  "language_info": {
   "codemirror_mode": {
    "name": "ipython",
    "version": 3
   },
   "file_extension": ".py",
   "mimetype": "text/x-python",
   "name": "python",
   "nbconvert_exporter": "python",
   "pygments_lexer": "ipython3",
   "version": "3.9.7"
  }
 },
 "nbformat": 4,
 "nbformat_minor": 5
}
