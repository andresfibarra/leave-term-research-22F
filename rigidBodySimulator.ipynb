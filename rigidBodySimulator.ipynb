{
 "cells": [
  {
   "cell_type": "markdown",
   "id": "8285045c",
   "metadata": {},
   "source": [
    "# Rigid Body Simulator\n",
    "\n",
    "Credit to Professor Bo Zhu, on whose COSC 89 Course Notes the following code is based on"
   ]
  },
  {
   "cell_type": "markdown",
   "id": "d93f535d",
   "metadata": {},
   "source": [
    "## Geometry in space"
   ]
  },
  {
   "cell_type": "code",
   "execution_count": 72,
   "id": "5eb1a465",
   "metadata": {},
   "outputs": [
    {
     "name": "stdout",
     "output_type": "stream",
     "text": [
      "[Taichi] Starting on arch=x64\n"
     ]
    }
   ],
   "source": [
    "import taichi as ti\n",
    "import numpy as np\n",
    "\n",
    "ti.init()\n",
    "\n",
    "# variables and fields to keep track of\n",
    "num_particles = 1\n",
    "dt = 1e-3\n",
    "substeps = 10\n",
    "mass = 1\n",
    "\n",
    "# Inertial tensor\n",
    "I = 10\n",
    "# position - center of mass\n",
    "x = ti.Vector.field(n=2, dtype=ti.f32, shape=num_particles)\n",
    "# x = ti.Vector([0.5, 0.5])\n",
    "# vertices - relative to center of mass -- will have to change if more than one solid\n",
    "vertices_0 = ti.Vector.field(n=2, dtype=ti.f32, shape=num_particles*3)\n",
    "rotated_vertices = ti.Vector.field(n=2, dtype=ti.f32, shape=num_particles*3)\n",
    "# force\n",
    "force = ti.Vector.field(n=2, dtype=ti.f32, shape=num_particles)\n",
    "# torque\n",
    "torque = ti.field(dtype=ti.f32, shape=num_particles)\n",
    "# velocity\n",
    "v = ti.Vector.field(n=2, dtype=ti.f32, shape=num_particles)\n",
    "# orientation\n",
    "theta = ti.field(dtype=ti.f32, shape=num_particles)\n",
    "# angular velocity\n",
    "w = ti.field(dtype=ti.f32, shape=num_particles)\n",
    "\n",
    "@ti.kernel\n",
    "def init_pos():\n",
    "    x[0] = ti.Vector([0.5, 0.5])\n",
    "    # equilateral triangle\n",
    "    vertices_0[0] = ti.Vector([0, 0.1])\n",
    "    vertices_0[1] = ti.Vector([-0.0866, -0.05])\n",
    "    vertices_0[2] = ti.Vector([0.0866, -0.05])\n",
    "    rotated_vertices[0] = ti.Vector([0, 0.1])\n",
    "    rotated_vertices[1] = ti.Vector([-0.0866, -0.05])\n",
    "    rotated_vertices[2] = ti.Vector([0.0866, -0.05])\n",
    "    # initialize velocities\n",
    "    v[0] = ti.Vector([0, 0])\n",
    "    # initialize force\n",
    "    force[0] = ti.Vector([0,0])\n",
    "    \n",
    "    \n",
    "    ### TO DO\n",
    "    # change the force, angular velocity, and torque to be 3d vectors so that cross products can be used \n",
    "    # to calculate torque \n",
    "    ###\n",
    "\n",
    "@ti.func\n",
    "def calculate_force():\n",
    "    pass\n",
    "\n",
    "@ti.func\n",
    "def rotate():\n",
    "    pass\n",
    "\n",
    "@ti.func\n",
    "def calculate_torque():\n",
    "    pass\n",
    "\n",
    "@ti.kernel\n",
    "def substep():\n",
    "    calculate_force()\n",
    "    calculate_torque()\n",
    "    # update velocity\n",
    "    v[0] = v[0] + dt * force[0] / mass\n",
    "    # update angular velocity\n",
    "    w[0] = w[0] + dt * torque[0] / I\n",
    "    # update position\n",
    "    x[0] = x[0] + dt * v[0]\n",
    "    # update orientation\n",
    "    theta[0] = theta[0] * dt * w[0]\n",
    "    # update vertices\n",
    "    rotate()\n",
    "\n",
    "def main():\n",
    "    gui = ti.GUI('Rigid Body', (600, 600))\n",
    "    # initialize vertices\n",
    "    init_pos()\n",
    "    \n",
    "    while gui.running:\n",
    "        for e in gui.get_events(ti.GUI.PRESS):\n",
    "            pass\n",
    "            \n",
    "        # Update for a time step\n",
    "        for step in range(substeps):\n",
    "            substep()\n",
    "\n",
    "        gui.triangle(a=x[0]+rotated_vertices[0], b=x[0]+rotated_vertices[1], c=x[0]+rotated_vertices[2], color=0xED553B)\n",
    "        \n",
    "        gui.show()\n",
    "    \n",
    "if __name__ == '__main__':\n",
    "    main()"
   ]
  },
  {
   "cell_type": "markdown",
   "id": "71b491b2",
   "metadata": {},
   "source": [
    "Code from stackoverflow on finding the inertial tensor using triangles\n",
    "\n",
    "https://stackoverflow.com/questions/41592034/computing-tensor-of-inertia-in-2d"
   ]
  },
  {
   "cell_type": "code",
   "execution_count": null,
   "id": "48547895",
   "metadata": {},
   "outputs": [],
   "source": []
  }
 ],
 "metadata": {
  "kernelspec": {
   "display_name": "Python 3 (ipykernel)",
   "language": "python",
   "name": "python3"
  },
  "language_info": {
   "codemirror_mode": {
    "name": "ipython",
    "version": 3
   },
   "file_extension": ".py",
   "mimetype": "text/x-python",
   "name": "python",
   "nbconvert_exporter": "python",
   "pygments_lexer": "ipython3",
   "version": "3.9.7"
  }
 },
 "nbformat": 4,
 "nbformat_minor": 5
}
