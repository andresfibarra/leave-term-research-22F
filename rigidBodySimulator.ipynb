{
 "cells": [
  {
   "cell_type": "markdown",
   "id": "8285045c",
   "metadata": {},
   "source": [
    "# Rigid Body Simulator\n",
    "\n",
    "Credit to Professor Bo Zhu, on whose COSC 89 Course Notes the following code is based on"
   ]
  },
  {
   "cell_type": "markdown",
   "id": "d93f535d",
   "metadata": {},
   "source": [
    "## Geometry in space"
   ]
  },
  {
   "cell_type": "code",
   "execution_count": 1,
   "id": "5eb1a465",
   "metadata": {},
   "outputs": [
    {
     "name": "stdout",
     "output_type": "stream",
     "text": [
      "[Taichi] version 1.1.2, llvm 10.0.0, commit f25cf4a2, osx, python 3.9.7\n",
      "[I 10/03/22 11:32:29.563 252726] [shell.py:_shell_pop_print@33] Graphical python shell detected, using wrapped sys.stdout\n",
      "[Taichi] Starting on arch=x64\n"
     ]
    },
    {
     "ename": "NameError",
     "evalue": "name 'substeps' is not defined",
     "output_type": "error",
     "traceback": [
      "\u001b[0;31m---------------------------------------------------------------------------\u001b[0m",
      "\u001b[0;31mNameError\u001b[0m                                 Traceback (most recent call last)",
      "\u001b[0;32m/var/folders/y7/rxbvhmr9307f345mkrl28_xw0000gn/T/ipykernel_5370/3875364050.py\u001b[0m in \u001b[0;36m<module>\u001b[0;34m\u001b[0m\n\u001b[1;32m     47\u001b[0m \u001b[0;34m\u001b[0m\u001b[0m\n\u001b[1;32m     48\u001b[0m \u001b[0;32mif\u001b[0m \u001b[0m__name__\u001b[0m \u001b[0;34m==\u001b[0m \u001b[0;34m'__main__'\u001b[0m\u001b[0;34m:\u001b[0m\u001b[0;34m\u001b[0m\u001b[0;34m\u001b[0m\u001b[0m\n\u001b[0;32m---> 49\u001b[0;31m     \u001b[0mmain\u001b[0m\u001b[0;34m(\u001b[0m\u001b[0;34m)\u001b[0m\u001b[0;34m\u001b[0m\u001b[0;34m\u001b[0m\u001b[0m\n\u001b[0m",
      "\u001b[0;32m/var/folders/y7/rxbvhmr9307f345mkrl28_xw0000gn/T/ipykernel_5370/3875364050.py\u001b[0m in \u001b[0;36mmain\u001b[0;34m()\u001b[0m\n\u001b[1;32m     38\u001b[0m \u001b[0;34m\u001b[0m\u001b[0m\n\u001b[1;32m     39\u001b[0m         \u001b[0;31m# Update for a time step\u001b[0m\u001b[0;34m\u001b[0m\u001b[0;34m\u001b[0m\u001b[0m\n\u001b[0;32m---> 40\u001b[0;31m         \u001b[0;32mfor\u001b[0m \u001b[0mstep\u001b[0m \u001b[0;32min\u001b[0m \u001b[0mrange\u001b[0m\u001b[0;34m(\u001b[0m\u001b[0msubsteps\u001b[0m\u001b[0;34m)\u001b[0m\u001b[0;34m:\u001b[0m\u001b[0;34m\u001b[0m\u001b[0;34m\u001b[0m\u001b[0m\n\u001b[0m\u001b[1;32m     41\u001b[0m             \u001b[0msubstep\u001b[0m\u001b[0;34m(\u001b[0m\u001b[0;34m)\u001b[0m\u001b[0;34m\u001b[0m\u001b[0;34m\u001b[0m\u001b[0m\n\u001b[1;32m     42\u001b[0m \u001b[0;34m\u001b[0m\u001b[0m\n",
      "\u001b[0;31mNameError\u001b[0m: name 'substeps' is not defined"
     ]
    }
   ],
   "source": [
    "import taichi as ti\n",
    "\n",
    "ti.init()\n",
    "\n",
    "# variables and fields to keep track of\n",
    "num_particles = 1\n",
    "# Inertial tensor\n",
    "I = 10\n",
    "# position\n",
    "x = ti.Vector.field(2, dtype=ti.f32, shape=num_particles)\n",
    "# velocity\n",
    "v = ti.Vector.field(2, dtype=ti.f32, shape=num_particles)\n",
    "# orientation\n",
    "theta = ti.field(dtype=ti.f32, shape=num_particles)\n",
    "# angular velocity\n",
    "w = ti.field(dtype=ti.f32, shape=num_particles)\n",
    "\n",
    "@ti.func\n",
    "def calculate_force():\n",
    "    pass\n",
    "\n",
    "\n",
    "@ti.func\n",
    "def rotate(x: ti.Vector, theta: ti.field):\n",
    "    pass\n",
    "\n",
    "@ti.func\n",
    "def calculate_torque():\n",
    "    pass\n",
    "\n",
    "@ti.kernel\n",
    "def substep():\n",
    "    calculate_force()\n",
    "    calculate_torque()\n",
    "    # update velocity\n",
    "    # update angular velocity\n",
    "    # update position\n",
    "    # update orientation\n",
    "    \n",
    "        \n",
    "\n",
    "def main():\n",
    "    gui = ti.GUI('Rigid Body', (640, 480))\n",
    "    \n",
    "    while gui.running:\n",
    "        for e in gui.get_events(ti.GUI.PRESS):\n",
    "            pass\n",
    "            \n",
    "        # Update for a time step\n",
    "        for step in range(substeps):\n",
    "            substep()\n",
    "              \n",
    "        # Draw updated shape\n",
    "        \n",
    "        \n",
    "        gui.show()\n",
    "    \n",
    "if __name__ == '__main__':\n",
    "    main()"
   ]
  },
  {
   "cell_type": "markdown",
   "id": "71b491b2",
   "metadata": {},
   "source": [
    "Code from stackoverflow on finding the inertial tensor using triangles\n",
    "\n",
    "https://stackoverflow.com/questions/41592034/computing-tensor-of-inertia-in-2d"
   ]
  },
  {
   "cell_type": "code",
   "execution_count": null,
   "id": "48547895",
   "metadata": {},
   "outputs": [],
   "source": []
  }
 ],
 "metadata": {
  "kernelspec": {
   "display_name": "Python 3 (ipykernel)",
   "language": "python",
   "name": "python3"
  },
  "language_info": {
   "codemirror_mode": {
    "name": "ipython",
    "version": 3
   },
   "file_extension": ".py",
   "mimetype": "text/x-python",
   "name": "python",
   "nbconvert_exporter": "python",
   "pygments_lexer": "ipython3",
   "version": "3.9.7"
  }
 },
 "nbformat": 4,
 "nbformat_minor": 5
}
